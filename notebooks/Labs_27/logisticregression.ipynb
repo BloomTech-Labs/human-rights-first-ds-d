{
  "nbformat": 4,
  "nbformat_minor": 0,
  "metadata": {
    "kernelspec": {
      "display_name": "hrf",
      "language": "python",
      "name": "hrf"
    },
    "language_info": {
      "codemirror_mode": {
        "name": "ipython",
        "version": 3
      },
      "file_extension": ".py",
      "mimetype": "text/x-python",
      "name": "python",
      "nbconvert_exporter": "python",
      "pygments_lexer": "ipython3",
      "version": "3.7.9"
    },
    "colab": {
      "name": "Copy of logisticregression.ipynb",
      "provenance": []
    }
  },
  "cells": [
    {
      "cell_type": "code",
      "metadata": {
        "id": "YJzCp7RL3sTL",
        "outputId": "3c2fc5af-898e-4e36-d995-208cd69cd735"
      },
      "source": [
        "import csv\n",
        "import pandas as pd\n",
        "import itertools\n",
        "import math\n",
        "from nltk.corpus import stopwords\n",
        "from nltk.stem.porter import PorterStemmer\n",
        "import spacy\n",
        "import string\n",
        "import re\n",
        "import nltk\n",
        "import numpy as np\n",
        "from sklearn.feature_extraction.text import CountVectorizer, TfidfVectorizer\n",
        "from sklearn.neighbors import NearestNeighbors\n",
        "from sklearn.model_selection import train_test_split\n",
        "from sklearn.ensemble import RandomForestClassifier\n",
        "from sklearn.pipeline import Pipeline\n",
        "from sklearn.metrics import accuracy_score, f1_score, precision_score\n",
        "from sklearn.metrics import classification_report, plot_confusion_matrix\n",
        "from nltk.tokenize import word_tokenize\n",
        "from sklearn import linear_model\n",
        "from sklearn import metrics\n",
        "from sklearn import model_selection\n",
        "nltk.download('punkt')"
      ],
      "execution_count": null,
      "outputs": [
        {
          "output_type": "stream",
          "text": [
            "[nltk_data] Downloading package punkt to\n",
            "[nltk_data]     C:\\Users\\David_Cruz\\AppData\\Roaming\\nltk_data...\n",
            "[nltk_data]   Unzipping tokenizers\\punkt.zip.\n"
          ],
          "name": "stderr"
        },
        {
          "output_type": "execute_result",
          "data": {
            "text/plain": [
              "True"
            ]
          },
          "metadata": {
            "tags": []
          },
          "execution_count": 49
        }
      ]
    },
    {
      "cell_type": "code",
      "metadata": {
        "id": "c0fhXu-t3sTP"
      },
      "source": [
        "news = pd.read_csv('news.csv')"
      ],
      "execution_count": null,
      "outputs": []
    },
    {
      "cell_type": "code",
      "metadata": {
        "id": "1yRHX79O3sTR",
        "outputId": "4cc23fae-a636-4b0a-9e6d-14b4eda275c2"
      },
      "source": [
        "news.head()"
      ],
      "execution_count": null,
      "outputs": [
        {
          "output_type": "execute_result",
          "data": {
            "text/html": [
              "<div>\n",
              "<style scoped>\n",
              "    .dataframe tbody tr th:only-of-type {\n",
              "        vertical-align: middle;\n",
              "    }\n",
              "\n",
              "    .dataframe tbody tr th {\n",
              "        vertical-align: top;\n",
              "    }\n",
              "\n",
              "    .dataframe thead th {\n",
              "        text-align: right;\n",
              "    }\n",
              "</style>\n",
              "<table border=\"1\" class=\"dataframe\">\n",
              "  <thead>\n",
              "    <tr style=\"text-align: right;\">\n",
              "      <th></th>\n",
              "      <th>id</th>\n",
              "      <th>title</th>\n",
              "      <th>score</th>\n",
              "      <th>subreddit</th>\n",
              "      <th>url</th>\n",
              "      <th>num_comments</th>\n",
              "      <th>text</th>\n",
              "      <th>created</th>\n",
              "      <th>police_brutality</th>\n",
              "    </tr>\n",
              "  </thead>\n",
              "  <tbody>\n",
              "    <tr>\n",
              "      <th>0</th>\n",
              "      <td>dfn3yi</td>\n",
              "      <td>Blizzard Employees Staged a Walkout After the ...</td>\n",
              "      <td>226324</td>\n",
              "      <td>news</td>\n",
              "      <td>https://www.thedailybeast.com/blizzard-employe...</td>\n",
              "      <td>9623</td>\n",
              "      <td>NaN</td>\n",
              "      <td>1.570683e+09</td>\n",
              "      <td>0</td>\n",
              "    </tr>\n",
              "    <tr>\n",
              "      <th>1</th>\n",
              "      <td>eubjfc</td>\n",
              "      <td>Kobe Bryant killed in helicopter crash in Cali...</td>\n",
              "      <td>213684</td>\n",
              "      <td>news</td>\n",
              "      <td>https://www.fox5dc.com/news/kobe-bryant-killed...</td>\n",
              "      <td>20705</td>\n",
              "      <td>NaN</td>\n",
              "      <td>1.580096e+09</td>\n",
              "      <td>0</td>\n",
              "    </tr>\n",
              "    <tr>\n",
              "      <th>2</th>\n",
              "      <td>84aebi</td>\n",
              "      <td>Scientist Stephen Hawking has died aged 76</td>\n",
              "      <td>188175</td>\n",
              "      <td>news</td>\n",
              "      <td>http://news.sky.com/story/scientist-stephen-ha...</td>\n",
              "      <td>6916</td>\n",
              "      <td>NaN</td>\n",
              "      <td>1.521028e+09</td>\n",
              "      <td>0</td>\n",
              "    </tr>\n",
              "    <tr>\n",
              "      <th>3</th>\n",
              "      <td>dp5lr1</td>\n",
              "      <td>Jeffrey Epstein's autopsy more consistent with...</td>\n",
              "      <td>186243</td>\n",
              "      <td>news</td>\n",
              "      <td>https://www.foxnews.com/us/forensic-pathologis...</td>\n",
              "      <td>10057</td>\n",
              "      <td>NaN</td>\n",
              "      <td>1.572465e+09</td>\n",
              "      <td>0</td>\n",
              "    </tr>\n",
              "    <tr>\n",
              "      <th>4</th>\n",
              "      <td>7ej943</td>\n",
              "      <td>F.C.C. Announces Plan to Repeal Net Neutrality</td>\n",
              "      <td>178001</td>\n",
              "      <td>news</td>\n",
              "      <td>https://www.nytimes.com/2017/11/21/technology/...</td>\n",
              "      <td>10857</td>\n",
              "      <td>NaN</td>\n",
              "      <td>1.511312e+09</td>\n",
              "      <td>0</td>\n",
              "    </tr>\n",
              "  </tbody>\n",
              "</table>\n",
              "</div>"
            ],
            "text/plain": [
              "       id                                              title   score  \\\n",
              "0  dfn3yi  Blizzard Employees Staged a Walkout After the ...  226324   \n",
              "1  eubjfc  Kobe Bryant killed in helicopter crash in Cali...  213684   \n",
              "2  84aebi         Scientist Stephen Hawking has died aged 76  188175   \n",
              "3  dp5lr1  Jeffrey Epstein's autopsy more consistent with...  186243   \n",
              "4  7ej943     F.C.C. Announces Plan to Repeal Net Neutrality  178001   \n",
              "\n",
              "  subreddit                                                url  num_comments  \\\n",
              "0      news  https://www.thedailybeast.com/blizzard-employe...          9623   \n",
              "1      news  https://www.fox5dc.com/news/kobe-bryant-killed...         20705   \n",
              "2      news  http://news.sky.com/story/scientist-stephen-ha...          6916   \n",
              "3      news  https://www.foxnews.com/us/forensic-pathologis...         10057   \n",
              "4      news  https://www.nytimes.com/2017/11/21/technology/...         10857   \n",
              "\n",
              "   text       created  police_brutality  \n",
              "0   NaN  1.570683e+09                 0  \n",
              "1   NaN  1.580096e+09                 0  \n",
              "2   NaN  1.521028e+09                 0  \n",
              "3   NaN  1.572465e+09                 0  \n",
              "4   NaN  1.511312e+09                 0  "
            ]
          },
          "metadata": {
            "tags": []
          },
          "execution_count": 8
        }
      ]
    },
    {
      "cell_type": "code",
      "metadata": {
        "id": "gnGj37qs3sTT"
      },
      "source": [
        "news=news.drop(['id', 'score','subreddit', 'url','num_comments','text','created'], axis=1)\n"
      ],
      "execution_count": null,
      "outputs": []
    },
    {
      "cell_type": "code",
      "metadata": {
        "id": "lkNg43NL3sTV",
        "outputId": "058f43c6-e333-4f23-81cf-32cde4357a4d"
      },
      "source": [
        "news.head()\n",
        "print(news.shape)"
      ],
      "execution_count": null,
      "outputs": [
        {
          "output_type": "stream",
          "text": [
            "(993, 2)\n"
          ],
          "name": "stdout"
        }
      ]
    },
    {
      "cell_type": "code",
      "metadata": {
        "id": "6RQjdcTr3sTX"
      },
      "source": [
        "pol_uof = pd.read_csv('police_use_force.csv')"
      ],
      "execution_count": null,
      "outputs": []
    },
    {
      "cell_type": "code",
      "metadata": {
        "id": "0b__Ed9k3sTZ"
      },
      "source": [
        "pol_uof['title'] = pol_uof['name']"
      ],
      "execution_count": null,
      "outputs": []
    },
    {
      "cell_type": "code",
      "metadata": {
        "id": "kLzNIs293sTb"
      },
      "source": [
        "pol_uof = pol_uof.drop(['name'], axis = 1)"
      ],
      "execution_count": null,
      "outputs": []
    },
    {
      "cell_type": "code",
      "metadata": {
        "id": "zWPpv7SV3sTd",
        "outputId": "7f759e7d-0d15-4e93-99d7-07c403f8daaa"
      },
      "source": [
        "pol_uof"
      ],
      "execution_count": null,
      "outputs": [
        {
          "output_type": "execute_result",
          "data": {
            "text/html": [
              "<div>\n",
              "<style scoped>\n",
              "    .dataframe tbody tr th:only-of-type {\n",
              "        vertical-align: middle;\n",
              "    }\n",
              "\n",
              "    .dataframe tbody tr th {\n",
              "        vertical-align: top;\n",
              "    }\n",
              "\n",
              "    .dataframe thead th {\n",
              "        text-align: right;\n",
              "    }\n",
              "</style>\n",
              "<table border=\"1\" class=\"dataframe\">\n",
              "  <thead>\n",
              "    <tr style=\"text-align: right;\">\n",
              "      <th></th>\n",
              "      <th>police_brutality</th>\n",
              "      <th>title</th>\n",
              "    </tr>\n",
              "  </thead>\n",
              "  <tbody>\n",
              "    <tr>\n",
              "      <th>0</th>\n",
              "      <td>1</td>\n",
              "      <td>Compilation of incidents</td>\n",
              "    </tr>\n",
              "    <tr>\n",
              "      <th>1</th>\n",
              "      <td>1</td>\n",
              "      <td>Police shove a protesting woman down a set of ...</td>\n",
              "    </tr>\n",
              "    <tr>\n",
              "      <th>2</th>\n",
              "      <td>1</td>\n",
              "      <td>Police throw tear-gas at protesters on a bridge.</td>\n",
              "    </tr>\n",
              "    <tr>\n",
              "      <th>3</th>\n",
              "      <td>1</td>\n",
              "      <td>Police assault protesters</td>\n",
              "    </tr>\n",
              "    <tr>\n",
              "      <th>4</th>\n",
              "      <td>1</td>\n",
              "      <td>Police shoot non-violent protester in the head</td>\n",
              "    </tr>\n",
              "    <tr>\n",
              "      <th>...</th>\n",
              "      <td>...</td>\n",
              "      <td>...</td>\n",
              "    </tr>\n",
              "    <tr>\n",
              "      <th>990</th>\n",
              "      <td>1</td>\n",
              "      <td>Reporter shows tear gas canister fired at him ...</td>\n",
              "    </tr>\n",
              "    <tr>\n",
              "      <th>991</th>\n",
              "      <td>1</td>\n",
              "      <td>Woman bleeding from face after being shot by p...</td>\n",
              "    </tr>\n",
              "    <tr>\n",
              "      <th>992</th>\n",
              "      <td>1</td>\n",
              "      <td>Police Mace, shoot pepper bullets at protester...</td>\n",
              "    </tr>\n",
              "    <tr>\n",
              "      <th>993</th>\n",
              "      <td>1</td>\n",
              "      <td>Peaceful protesters arrested for breaking curfew</td>\n",
              "    </tr>\n",
              "    <tr>\n",
              "      <th>994</th>\n",
              "      <td>1</td>\n",
              "      <td>Police officer shoves protester on bike; polic...</td>\n",
              "    </tr>\n",
              "  </tbody>\n",
              "</table>\n",
              "<p>995 rows × 2 columns</p>\n",
              "</div>"
            ],
            "text/plain": [
              "     police_brutality                                              title\n",
              "0                   1                           Compilation of incidents\n",
              "1                   1  Police shove a protesting woman down a set of ...\n",
              "2                   1   Police throw tear-gas at protesters on a bridge.\n",
              "3                   1                          Police assault protesters\n",
              "4                   1     Police shoot non-violent protester in the head\n",
              "..                ...                                                ...\n",
              "990                 1  Reporter shows tear gas canister fired at him ...\n",
              "991                 1  Woman bleeding from face after being shot by p...\n",
              "992                 1  Police Mace, shoot pepper bullets at protester...\n",
              "993                 1   Peaceful protesters arrested for breaking curfew\n",
              "994                 1  Police officer shoves protester on bike; polic...\n",
              "\n",
              "[995 rows x 2 columns]"
            ]
          },
          "metadata": {
            "tags": []
          },
          "execution_count": 27
        }
      ]
    },
    {
      "cell_type": "code",
      "metadata": {
        "id": "wrVR3Z963sTg"
      },
      "source": [
        "frames = [news, pol_uof]"
      ],
      "execution_count": null,
      "outputs": []
    },
    {
      "cell_type": "code",
      "metadata": {
        "id": "gPzZg2N_3sTh"
      },
      "source": [
        "df = pd.concat(frames)"
      ],
      "execution_count": null,
      "outputs": []
    },
    {
      "cell_type": "code",
      "metadata": {
        "id": "c2WeGoaN3sTj",
        "outputId": "811019d7-eb5a-42bf-df4f-22a5643c47b2"
      },
      "source": [
        "df.shape"
      ],
      "execution_count": null,
      "outputs": [
        {
          "output_type": "execute_result",
          "data": {
            "text/plain": [
              "(1988, 2)"
            ]
          },
          "metadata": {
            "tags": []
          },
          "execution_count": 30
        }
      ]
    },
    {
      "cell_type": "code",
      "metadata": {
        "id": "077hCtAC3sTl",
        "outputId": "533665a9-7b9e-4005-8a89-72a7c3bf450a"
      },
      "source": [
        "df.head()"
      ],
      "execution_count": null,
      "outputs": [
        {
          "output_type": "execute_result",
          "data": {
            "text/html": [
              "<div>\n",
              "<style scoped>\n",
              "    .dataframe tbody tr th:only-of-type {\n",
              "        vertical-align: middle;\n",
              "    }\n",
              "\n",
              "    .dataframe tbody tr th {\n",
              "        vertical-align: top;\n",
              "    }\n",
              "\n",
              "    .dataframe thead th {\n",
              "        text-align: right;\n",
              "    }\n",
              "</style>\n",
              "<table border=\"1\" class=\"dataframe\">\n",
              "  <thead>\n",
              "    <tr style=\"text-align: right;\">\n",
              "      <th></th>\n",
              "      <th>title</th>\n",
              "      <th>police_brutality</th>\n",
              "    </tr>\n",
              "  </thead>\n",
              "  <tbody>\n",
              "    <tr>\n",
              "      <th>0</th>\n",
              "      <td>Blizzard Employees Staged a Walkout After the ...</td>\n",
              "      <td>0</td>\n",
              "    </tr>\n",
              "    <tr>\n",
              "      <th>1</th>\n",
              "      <td>Kobe Bryant killed in helicopter crash in Cali...</td>\n",
              "      <td>0</td>\n",
              "    </tr>\n",
              "    <tr>\n",
              "      <th>2</th>\n",
              "      <td>Scientist Stephen Hawking has died aged 76</td>\n",
              "      <td>0</td>\n",
              "    </tr>\n",
              "    <tr>\n",
              "      <th>3</th>\n",
              "      <td>Jeffrey Epstein's autopsy more consistent with...</td>\n",
              "      <td>0</td>\n",
              "    </tr>\n",
              "    <tr>\n",
              "      <th>4</th>\n",
              "      <td>F.C.C. Announces Plan to Repeal Net Neutrality</td>\n",
              "      <td>0</td>\n",
              "    </tr>\n",
              "  </tbody>\n",
              "</table>\n",
              "</div>"
            ],
            "text/plain": [
              "                                               title  police_brutality\n",
              "0  Blizzard Employees Staged a Walkout After the ...                 0\n",
              "1  Kobe Bryant killed in helicopter crash in Cali...                 0\n",
              "2         Scientist Stephen Hawking has died aged 76                 0\n",
              "3  Jeffrey Epstein's autopsy more consistent with...                 0\n",
              "4     F.C.C. Announces Plan to Repeal Net Neutrality                 0"
            ]
          },
          "metadata": {
            "tags": []
          },
          "execution_count": 31
        }
      ]
    },
    {
      "cell_type": "code",
      "metadata": {
        "id": "LeqMCj4N3sTn",
        "outputId": "9f72cf86-bc8d-4cce-eae4-86bf8e269b3c"
      },
      "source": [
        "df['police_brutality'].value_counts()"
      ],
      "execution_count": null,
      "outputs": [
        {
          "output_type": "execute_result",
          "data": {
            "text/plain": [
              "1    995\n",
              "0    993\n",
              "Name: police_brutality, dtype: int64"
            ]
          },
          "metadata": {
            "tags": []
          },
          "execution_count": 37
        }
      ]
    },
    {
      "cell_type": "code",
      "metadata": {
        "id": "w0SKvOQx3sTp",
        "outputId": "fe6a206f-7431-4a60-a61a-062213f8efd6"
      },
      "source": [
        "995+993"
      ],
      "execution_count": null,
      "outputs": [
        {
          "output_type": "execute_result",
          "data": {
            "text/plain": [
              "1988"
            ]
          },
          "metadata": {
            "tags": []
          },
          "execution_count": 38
        }
      ]
    },
    {
      "cell_type": "code",
      "metadata": {
        "id": "HVqSp74B3sTr",
        "outputId": "ce35fa50-3c15-4a0a-9d31-8086fa873d40"
      },
      "source": [
        "# This is baseline accuracy of 50%\n",
        "995/1988"
      ],
      "execution_count": null,
      "outputs": [
        {
          "output_type": "execute_result",
          "data": {
            "text/plain": [
              "0.5005030181086519"
            ]
          },
          "metadata": {
            "tags": []
          },
          "execution_count": 39
        }
      ]
    },
    {
      "cell_type": "code",
      "metadata": {
        "id": "5FPchZ8J3sTt"
      },
      "source": [
        "# create a column kfold so we know which fold . set to -1\n",
        "df['kfold'] = -1"
      ],
      "execution_count": null,
      "outputs": []
    },
    {
      "cell_type": "code",
      "metadata": {
        "id": "db-71I4w3sTv"
      },
      "source": [
        "#randomize the rows\n",
        "df = df.sample(frac=1).reset_index(drop=True)"
      ],
      "execution_count": null,
      "outputs": []
    },
    {
      "cell_type": "code",
      "metadata": {
        "id": "4RuMOwbW3sTx"
      },
      "source": [
        "# fetch labels\n",
        "y = df.police_brutality.values"
      ],
      "execution_count": null,
      "outputs": []
    },
    {
      "cell_type": "code",
      "metadata": {
        "id": "d2r5Sllm3sTz"
      },
      "source": [
        "kf = model_selection.StratifiedKFold(n_splits=5)"
      ],
      "execution_count": null,
      "outputs": []
    },
    {
      "cell_type": "code",
      "metadata": {
        "id": "ywQWrPPo3sT1"
      },
      "source": [
        "# fill the new kfold column\n",
        "for f, (t_, v_) in enumerate(kf.split(X=df, y=y)):\n",
        "    df.loc[v_, 'kfold'] = f"
      ],
      "execution_count": null,
      "outputs": []
    },
    {
      "cell_type": "code",
      "metadata": {
        "id": "dMlTfwyV3sT3",
        "outputId": "f6043d6f-6abb-49db-b758-74970b8b3575"
      },
      "source": [
        "# go over the folds created\n",
        "for fold_ in range(5):\n",
        "    # temp dataframes for train and test\n",
        "    train_df= df[df.kfold != fold_].reset_index(drop=True)\n",
        "    test_df = df[df.kfold == fold_].reset_index(drop=True)\n",
        "    \n",
        "    #initialize countvectorizer with NLTK's work_tokenize\n",
        "    #function as tokenizer\n",
        "    count_vec = CountVectorizer(tokenizer=word_tokenize,\n",
        "                               token_pattern=None)\n",
        "\n",
        "    #fit the count_vectorizor on training data titles\n",
        "    count_vec.fit(train_df.title)\n",
        "\n",
        "    # transform training and validation data\n",
        "    xtrain = count_vec.transform(train_df.title)\n",
        "    xtest = count_vec.transform(test_df.title)\n",
        "\n",
        "    # initialize logistic regression model\n",
        "    model = linear_model.LogisticRegression()\n",
        "\n",
        "    # fit the model on training titles and police brutality rating\n",
        "    model.fit(xtrain, train_df.police_brutality)\n",
        "\n",
        "    #make predictions on test data\n",
        "    #baseline was ~50%\n",
        "    pred = model.predict(xtest)\n",
        "\n",
        "    #accuracy\n",
        "    accuracy = metrics.accuracy_score(test_df.police_brutality, pred)\n",
        "\n",
        "    #print results\n",
        "    print(f\"Fold: {fold_}\")\n",
        "    print(f\"Accuracy = {accuracy}\")\n",
        "    print(\"\")"
      ],
      "execution_count": null,
      "outputs": [
        {
          "output_type": "stream",
          "text": [
            "Fold: 0\n",
            "Accuracy = 0.9723618090452262\n",
            "\n",
            "Fold: 1\n",
            "Accuracy = 0.957286432160804\n",
            "\n",
            "Fold: 2\n",
            "Accuracy = 0.964824120603015\n",
            "\n",
            "Fold: 3\n",
            "Accuracy = 0.9622166246851386\n",
            "\n",
            "Fold: 4\n",
            "Accuracy = 0.9697732997481109\n",
            "\n"
          ],
          "name": "stdout"
        }
      ]
    },
    {
      "cell_type": "code",
      "metadata": {
        "id": "OUccQs1p3sT6"
      },
      "source": [
        "test_title = [\"\"\"Aliens bake humungous souffle\"\"\"]\n",
        "\n",
        "x = count_vec.transform(test_title)"
      ],
      "execution_count": null,
      "outputs": []
    },
    {
      "cell_type": "code",
      "metadata": {
        "id": "qhm3_fbf3sT8",
        "outputId": "c2d40967-d168-4c06-dc63-0221959dbcb0"
      },
      "source": [
        "model.predict(x)"
      ],
      "execution_count": null,
      "outputs": [
        {
          "output_type": "execute_result",
          "data": {
            "text/plain": [
              "array([0], dtype=int64)"
            ]
          },
          "metadata": {
            "tags": []
          },
          "execution_count": 87
        }
      ]
    }
  ]
}