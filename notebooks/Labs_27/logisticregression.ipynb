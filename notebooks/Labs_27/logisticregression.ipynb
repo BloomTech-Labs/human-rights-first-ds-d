{
 "cells": [
  {
   "cell_type": "code",
   "execution_count": 49,
   "metadata": {},
   "outputs": [
    {
     "name": "stderr",
     "output_type": "stream",
     "text": [
      "[nltk_data] Downloading package punkt to\n",
      "[nltk_data]     C:\\Users\\David_Cruz\\AppData\\Roaming\\nltk_data...\n",
      "[nltk_data]   Unzipping tokenizers\\punkt.zip.\n"
     ]
    },
    {
     "data": {
      "text/plain": [
       "True"
      ]
     },
     "execution_count": 49,
     "metadata": {},
     "output_type": "execute_result"
    }
   ],
   "source": [
    "import csv\n",
    "import pandas as pd\n",
    "import itertools\n",
    "import math\n",
    "from nltk.corpus import stopwords\n",
    "from nltk.stem.porter import PorterStemmer\n",
    "import spacy\n",
    "import string\n",
    "import re\n",
    "import nltk\n",
    "import numpy as np\n",
    "from sklearn.feature_extraction.text import CountVectorizer, TfidfVectorizer\n",
    "from sklearn.neighbors import NearestNeighbors\n",
    "from sklearn.model_selection import train_test_split\n",
    "from sklearn.ensemble import RandomForestClassifier\n",
    "from sklearn.pipeline import Pipeline\n",
    "from sklearn.metrics import accuracy_score, f1_score, precision_score\n",
    "from sklearn.metrics import classification_report, plot_confusion_matrix\n",
    "from nltk.tokenize import word_tokenize\n",
    "from sklearn import linear_model\n",
    "from sklearn import metrics\n",
    "from sklearn import model_selection\n",
    "nltk.download('punkt')"
   ]
  },
  {
   "cell_type": "code",
   "execution_count": 7,
   "metadata": {},
   "outputs": [],
   "source": [
    "news = pd.read_csv('news.csv')"
   ]
  },
  {
   "cell_type": "code",
   "execution_count": 8,
   "metadata": {},
   "outputs": [
    {
     "data": {
      "text/html": [
       "<div>\n",
       "<style scoped>\n",
       "    .dataframe tbody tr th:only-of-type {\n",
       "        vertical-align: middle;\n",
       "    }\n",
       "\n",
       "    .dataframe tbody tr th {\n",
       "        vertical-align: top;\n",
       "    }\n",
       "\n",
       "    .dataframe thead th {\n",
       "        text-align: right;\n",
       "    }\n",
       "</style>\n",
       "<table border=\"1\" class=\"dataframe\">\n",
       "  <thead>\n",
       "    <tr style=\"text-align: right;\">\n",
       "      <th></th>\n",
       "      <th>id</th>\n",
       "      <th>title</th>\n",
       "      <th>score</th>\n",
       "      <th>subreddit</th>\n",
       "      <th>url</th>\n",
       "      <th>num_comments</th>\n",
       "      <th>text</th>\n",
       "      <th>created</th>\n",
       "      <th>police_brutality</th>\n",
       "    </tr>\n",
       "  </thead>\n",
       "  <tbody>\n",
       "    <tr>\n",
       "      <th>0</th>\n",
       "      <td>dfn3yi</td>\n",
       "      <td>Blizzard Employees Staged a Walkout After the ...</td>\n",
       "      <td>226324</td>\n",
       "      <td>news</td>\n",
       "      <td>https://www.thedailybeast.com/blizzard-employe...</td>\n",
       "      <td>9623</td>\n",
       "      <td>NaN</td>\n",
       "      <td>1.570683e+09</td>\n",
       "      <td>0</td>\n",
       "    </tr>\n",
       "    <tr>\n",
       "      <th>1</th>\n",
       "      <td>eubjfc</td>\n",
       "      <td>Kobe Bryant killed in helicopter crash in Cali...</td>\n",
       "      <td>213684</td>\n",
       "      <td>news</td>\n",
       "      <td>https://www.fox5dc.com/news/kobe-bryant-killed...</td>\n",
       "      <td>20705</td>\n",
       "      <td>NaN</td>\n",
       "      <td>1.580096e+09</td>\n",
       "      <td>0</td>\n",
       "    </tr>\n",
       "    <tr>\n",
       "      <th>2</th>\n",
       "      <td>84aebi</td>\n",
       "      <td>Scientist Stephen Hawking has died aged 76</td>\n",
       "      <td>188175</td>\n",
       "      <td>news</td>\n",
       "      <td>http://news.sky.com/story/scientist-stephen-ha...</td>\n",
       "      <td>6916</td>\n",
       "      <td>NaN</td>\n",
       "      <td>1.521028e+09</td>\n",
       "      <td>0</td>\n",
       "    </tr>\n",
       "    <tr>\n",
       "      <th>3</th>\n",
       "      <td>dp5lr1</td>\n",
       "      <td>Jeffrey Epstein's autopsy more consistent with...</td>\n",
       "      <td>186243</td>\n",
       "      <td>news</td>\n",
       "      <td>https://www.foxnews.com/us/forensic-pathologis...</td>\n",
       "      <td>10057</td>\n",
       "      <td>NaN</td>\n",
       "      <td>1.572465e+09</td>\n",
       "      <td>0</td>\n",
       "    </tr>\n",
       "    <tr>\n",
       "      <th>4</th>\n",
       "      <td>7ej943</td>\n",
       "      <td>F.C.C. Announces Plan to Repeal Net Neutrality</td>\n",
       "      <td>178001</td>\n",
       "      <td>news</td>\n",
       "      <td>https://www.nytimes.com/2017/11/21/technology/...</td>\n",
       "      <td>10857</td>\n",
       "      <td>NaN</td>\n",
       "      <td>1.511312e+09</td>\n",
       "      <td>0</td>\n",
       "    </tr>\n",
       "  </tbody>\n",
       "</table>\n",
       "</div>"
      ],
      "text/plain": [
       "       id                                              title   score  \\\n",
       "0  dfn3yi  Blizzard Employees Staged a Walkout After the ...  226324   \n",
       "1  eubjfc  Kobe Bryant killed in helicopter crash in Cali...  213684   \n",
       "2  84aebi         Scientist Stephen Hawking has died aged 76  188175   \n",
       "3  dp5lr1  Jeffrey Epstein's autopsy more consistent with...  186243   \n",
       "4  7ej943     F.C.C. Announces Plan to Repeal Net Neutrality  178001   \n",
       "\n",
       "  subreddit                                                url  num_comments  \\\n",
       "0      news  https://www.thedailybeast.com/blizzard-employe...          9623   \n",
       "1      news  https://www.fox5dc.com/news/kobe-bryant-killed...         20705   \n",
       "2      news  http://news.sky.com/story/scientist-stephen-ha...          6916   \n",
       "3      news  https://www.foxnews.com/us/forensic-pathologis...         10057   \n",
       "4      news  https://www.nytimes.com/2017/11/21/technology/...         10857   \n",
       "\n",
       "   text       created  police_brutality  \n",
       "0   NaN  1.570683e+09                 0  \n",
       "1   NaN  1.580096e+09                 0  \n",
       "2   NaN  1.521028e+09                 0  \n",
       "3   NaN  1.572465e+09                 0  \n",
       "4   NaN  1.511312e+09                 0  "
      ]
     },
     "execution_count": 8,
     "metadata": {},
     "output_type": "execute_result"
    }
   ],
   "source": [
    "news.head()"
   ]
  },
  {
   "cell_type": "code",
   "execution_count": 9,
   "metadata": {},
   "outputs": [],
   "source": [
    "news=news.drop(['id', 'score','subreddit', 'url','num_comments','text','created'], axis=1)\n"
   ]
  },
  {
   "cell_type": "code",
   "execution_count": 17,
   "metadata": {},
   "outputs": [
    {
     "name": "stdout",
     "output_type": "stream",
     "text": [
      "(993, 2)\n"
     ]
    }
   ],
   "source": [
    "news.head()\n",
    "print(news.shape)"
   ]
  },
  {
   "cell_type": "code",
   "execution_count": 14,
   "metadata": {},
   "outputs": [],
   "source": [
    "pol_uof = pd.read_csv('police_use_force.csv')"
   ]
  },
  {
   "cell_type": "code",
   "execution_count": 24,
   "metadata": {},
   "outputs": [],
   "source": [
    "pol_uof['title'] = pol_uof['name']"
   ]
  },
  {
   "cell_type": "code",
   "execution_count": 26,
   "metadata": {},
   "outputs": [],
   "source": [
    "pol_uof = pol_uof.drop(['name'], axis = 1)"
   ]
  },
  {
   "cell_type": "code",
   "execution_count": 27,
   "metadata": {},
   "outputs": [
    {
     "data": {
      "text/html": [
       "<div>\n",
       "<style scoped>\n",
       "    .dataframe tbody tr th:only-of-type {\n",
       "        vertical-align: middle;\n",
       "    }\n",
       "\n",
       "    .dataframe tbody tr th {\n",
       "        vertical-align: top;\n",
       "    }\n",
       "\n",
       "    .dataframe thead th {\n",
       "        text-align: right;\n",
       "    }\n",
       "</style>\n",
       "<table border=\"1\" class=\"dataframe\">\n",
       "  <thead>\n",
       "    <tr style=\"text-align: right;\">\n",
       "      <th></th>\n",
       "      <th>police_brutality</th>\n",
       "      <th>title</th>\n",
       "    </tr>\n",
       "  </thead>\n",
       "  <tbody>\n",
       "    <tr>\n",
       "      <th>0</th>\n",
       "      <td>1</td>\n",
       "      <td>Compilation of incidents</td>\n",
       "    </tr>\n",
       "    <tr>\n",
       "      <th>1</th>\n",
       "      <td>1</td>\n",
       "      <td>Police shove a protesting woman down a set of ...</td>\n",
       "    </tr>\n",
       "    <tr>\n",
       "      <th>2</th>\n",
       "      <td>1</td>\n",
       "      <td>Police throw tear-gas at protesters on a bridge.</td>\n",
       "    </tr>\n",
       "    <tr>\n",
       "      <th>3</th>\n",
       "      <td>1</td>\n",
       "      <td>Police assault protesters</td>\n",
       "    </tr>\n",
       "    <tr>\n",
       "      <th>4</th>\n",
       "      <td>1</td>\n",
       "      <td>Police shoot non-violent protester in the head</td>\n",
       "    </tr>\n",
       "    <tr>\n",
       "      <th>...</th>\n",
       "      <td>...</td>\n",
       "      <td>...</td>\n",
       "    </tr>\n",
       "    <tr>\n",
       "      <th>990</th>\n",
       "      <td>1</td>\n",
       "      <td>Reporter shows tear gas canister fired at him ...</td>\n",
       "    </tr>\n",
       "    <tr>\n",
       "      <th>991</th>\n",
       "      <td>1</td>\n",
       "      <td>Woman bleeding from face after being shot by p...</td>\n",
       "    </tr>\n",
       "    <tr>\n",
       "      <th>992</th>\n",
       "      <td>1</td>\n",
       "      <td>Police Mace, shoot pepper bullets at protester...</td>\n",
       "    </tr>\n",
       "    <tr>\n",
       "      <th>993</th>\n",
       "      <td>1</td>\n",
       "      <td>Peaceful protesters arrested for breaking curfew</td>\n",
       "    </tr>\n",
       "    <tr>\n",
       "      <th>994</th>\n",
       "      <td>1</td>\n",
       "      <td>Police officer shoves protester on bike; polic...</td>\n",
       "    </tr>\n",
       "  </tbody>\n",
       "</table>\n",
       "<p>995 rows × 2 columns</p>\n",
       "</div>"
      ],
      "text/plain": [
       "     police_brutality                                              title\n",
       "0                   1                           Compilation of incidents\n",
       "1                   1  Police shove a protesting woman down a set of ...\n",
       "2                   1   Police throw tear-gas at protesters on a bridge.\n",
       "3                   1                          Police assault protesters\n",
       "4                   1     Police shoot non-violent protester in the head\n",
       "..                ...                                                ...\n",
       "990                 1  Reporter shows tear gas canister fired at him ...\n",
       "991                 1  Woman bleeding from face after being shot by p...\n",
       "992                 1  Police Mace, shoot pepper bullets at protester...\n",
       "993                 1   Peaceful protesters arrested for breaking curfew\n",
       "994                 1  Police officer shoves protester on bike; polic...\n",
       "\n",
       "[995 rows x 2 columns]"
      ]
     },
     "execution_count": 27,
     "metadata": {},
     "output_type": "execute_result"
    }
   ],
   "source": [
    "pol_uof"
   ]
  },
  {
   "cell_type": "code",
   "execution_count": 28,
   "metadata": {},
   "outputs": [],
   "source": [
    "frames = [news, pol_uof]"
   ]
  },
  {
   "cell_type": "code",
   "execution_count": 29,
   "metadata": {},
   "outputs": [],
   "source": [
    "df = pd.concat(frames)"
   ]
  },
  {
   "cell_type": "code",
   "execution_count": 30,
   "metadata": {},
   "outputs": [
    {
     "data": {
      "text/plain": [
       "(1988, 2)"
      ]
     },
     "execution_count": 30,
     "metadata": {},
     "output_type": "execute_result"
    }
   ],
   "source": [
    "df.shape"
   ]
  },
  {
   "cell_type": "code",
   "execution_count": 31,
   "metadata": {},
   "outputs": [
    {
     "data": {
      "text/html": [
       "<div>\n",
       "<style scoped>\n",
       "    .dataframe tbody tr th:only-of-type {\n",
       "        vertical-align: middle;\n",
       "    }\n",
       "\n",
       "    .dataframe tbody tr th {\n",
       "        vertical-align: top;\n",
       "    }\n",
       "\n",
       "    .dataframe thead th {\n",
       "        text-align: right;\n",
       "    }\n",
       "</style>\n",
       "<table border=\"1\" class=\"dataframe\">\n",
       "  <thead>\n",
       "    <tr style=\"text-align: right;\">\n",
       "      <th></th>\n",
       "      <th>title</th>\n",
       "      <th>police_brutality</th>\n",
       "    </tr>\n",
       "  </thead>\n",
       "  <tbody>\n",
       "    <tr>\n",
       "      <th>0</th>\n",
       "      <td>Blizzard Employees Staged a Walkout After the ...</td>\n",
       "      <td>0</td>\n",
       "    </tr>\n",
       "    <tr>\n",
       "      <th>1</th>\n",
       "      <td>Kobe Bryant killed in helicopter crash in Cali...</td>\n",
       "      <td>0</td>\n",
       "    </tr>\n",
       "    <tr>\n",
       "      <th>2</th>\n",
       "      <td>Scientist Stephen Hawking has died aged 76</td>\n",
       "      <td>0</td>\n",
       "    </tr>\n",
       "    <tr>\n",
       "      <th>3</th>\n",
       "      <td>Jeffrey Epstein's autopsy more consistent with...</td>\n",
       "      <td>0</td>\n",
       "    </tr>\n",
       "    <tr>\n",
       "      <th>4</th>\n",
       "      <td>F.C.C. Announces Plan to Repeal Net Neutrality</td>\n",
       "      <td>0</td>\n",
       "    </tr>\n",
       "  </tbody>\n",
       "</table>\n",
       "</div>"
      ],
      "text/plain": [
       "                                               title  police_brutality\n",
       "0  Blizzard Employees Staged a Walkout After the ...                 0\n",
       "1  Kobe Bryant killed in helicopter crash in Cali...                 0\n",
       "2         Scientist Stephen Hawking has died aged 76                 0\n",
       "3  Jeffrey Epstein's autopsy more consistent with...                 0\n",
       "4     F.C.C. Announces Plan to Repeal Net Neutrality                 0"
      ]
     },
     "execution_count": 31,
     "metadata": {},
     "output_type": "execute_result"
    }
   ],
   "source": [
    "df.head()"
   ]
  },
  {
   "cell_type": "code",
   "execution_count": 37,
   "metadata": {},
   "outputs": [
    {
     "data": {
      "text/plain": [
       "1    995\n",
       "0    993\n",
       "Name: police_brutality, dtype: int64"
      ]
     },
     "execution_count": 37,
     "metadata": {},
     "output_type": "execute_result"
    }
   ],
   "source": [
    "df['police_brutality'].value_counts()"
   ]
  },
  {
   "cell_type": "code",
   "execution_count": 38,
   "metadata": {},
   "outputs": [
    {
     "data": {
      "text/plain": [
       "1988"
      ]
     },
     "execution_count": 38,
     "metadata": {},
     "output_type": "execute_result"
    }
   ],
   "source": [
    "995+993"
   ]
  },
  {
   "cell_type": "code",
   "execution_count": 39,
   "metadata": {},
   "outputs": [
    {
     "data": {
      "text/plain": [
       "0.5005030181086519"
      ]
     },
     "execution_count": 39,
     "metadata": {},
     "output_type": "execute_result"
    }
   ],
   "source": [
    "# This is baseline accuracy of 50%\n",
    "995/1988"
   ]
  },
  {
   "cell_type": "code",
   "execution_count": 40,
   "metadata": {},
   "outputs": [],
   "source": [
    "# create a column kfold so we know which fold . set to -1\n",
    "df['kfold'] = -1"
   ]
  },
  {
   "cell_type": "code",
   "execution_count": 41,
   "metadata": {},
   "outputs": [],
   "source": [
    "#randomize the rows\n",
    "df = df.sample(frac=1).reset_index(drop=True)"
   ]
  },
  {
   "cell_type": "code",
   "execution_count": 42,
   "metadata": {},
   "outputs": [],
   "source": [
    "# fetch labels\n",
    "y = df.police_brutality.values"
   ]
  },
  {
   "cell_type": "code",
   "execution_count": 44,
   "metadata": {},
   "outputs": [],
   "source": [
    "kf = model_selection.StratifiedKFold(n_splits=5)"
   ]
  },
  {
   "cell_type": "code",
   "execution_count": 45,
   "metadata": {},
   "outputs": [],
   "source": [
    "# fill the new kfold column\n",
    "for f, (t_, v_) in enumerate(kf.split(X=df, y=y)):\n",
    "    df.loc[v_, 'kfold'] = f"
   ]
  },
  {
   "cell_type": "code",
   "execution_count": 59,
   "metadata": {},
   "outputs": [
    {
     "name": "stdout",
     "output_type": "stream",
     "text": [
      "Fold: 0\n",
      "Accuracy = 0.9723618090452262\n",
      "\n",
      "Fold: 1\n",
      "Accuracy = 0.957286432160804\n",
      "\n",
      "Fold: 2\n",
      "Accuracy = 0.964824120603015\n",
      "\n",
      "Fold: 3\n",
      "Accuracy = 0.9622166246851386\n",
      "\n",
      "Fold: 4\n",
      "Accuracy = 0.9697732997481109\n",
      "\n"
     ]
    }
   ],
   "source": [
    "# go over the folds created\n",
    "for fold_ in range(5):\n",
    "    # temp dataframes for train and test\n",
    "    train_df= df[df.kfold != fold_].reset_index(drop=True)\n",
    "    test_df = df[df.kfold == fold_].reset_index(drop=True)\n",
    "    \n",
    "    #initialize countvectorizer with NLTK's work_tokenize\n",
    "    #function as tokenizer\n",
    "    count_vec = CountVectorizer(tokenizer=word_tokenize,\n",
    "                               token_pattern=None)\n",
    "\n",
    "    #fit the count_vectorizor on training data titles\n",
    "    count_vec.fit(train_df.title)\n",
    "\n",
    "    # transform training and validation data\n",
    "    xtrain = count_vec.transform(train_df.title)\n",
    "    xtest = count_vec.transform(test_df.title)\n",
    "\n",
    "    # initialize logistic regression model\n",
    "    model = linear_model.LogisticRegression()\n",
    "\n",
    "    # fit the model on training titles and police brutality rating\n",
    "    model.fit(xtrain, train_df.police_brutality)\n",
    "\n",
    "    #make predictions on test data\n",
    "    #baseline was ~50%\n",
    "    pred = model.predict(xtest)\n",
    "\n",
    "    #accuracy\n",
    "    accuracy = metrics.accuracy_score(test_df.police_brutality, pred)\n",
    "\n",
    "    #print results\n",
    "    print(f\"Fold: {fold_}\")\n",
    "    print(f\"Accuracy = {accuracy}\")\n",
    "    print(\"\")"
   ]
  },
  {
   "cell_type": "code",
   "execution_count": 86,
   "metadata": {},
   "outputs": [],
   "source": [
    "test_title = [\"\"\"Aliens bake humungous souffle\"\"\"]\n",
    "\n",
    "x = count_vec.transform(test_title)"
   ]
  },
  {
   "cell_type": "code",
   "execution_count": 87,
   "metadata": {},
   "outputs": [
    {
     "data": {
      "text/plain": [
       "array([0], dtype=int64)"
      ]
     },
     "execution_count": 87,
     "metadata": {},
     "output_type": "execute_result"
    }
   ],
   "source": [
    "model.predict(x)"
   ]
  }
 ],
 "metadata": {
  "kernelspec": {
   "display_name": "hrf",
   "language": "python",
   "name": "hrf"
  },
  "language_info": {
   "codemirror_mode": {
    "name": "ipython",
    "version": 3
   },
   "file_extension": ".py",
   "mimetype": "text/x-python",
   "name": "python",
   "nbconvert_exporter": "python",
   "pygments_lexer": "ipython3",
   "version": "3.7.9"
  }
 },
 "nbformat": 4,
 "nbformat_minor": 4
}
